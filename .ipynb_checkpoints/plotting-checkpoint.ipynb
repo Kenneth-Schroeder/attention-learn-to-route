{
 "cells": [
  {
   "cell_type": "code",
   "execution_count": 168,
   "id": "65da6383",
   "metadata": {},
   "outputs": [],
   "source": [
    "import pandas as pd\n",
    "import glob\n",
    "import json\n"
   ]
  },
  {
   "cell_type": "code",
   "execution_count": 297,
   "id": "2c952b2c",
   "metadata": {},
   "outputs": [],
   "source": [
    "\n",
    "\n",
    "# get data file names\n",
    "\n",
    "figure_meta = {\n",
    "    'key_path': 'log_dir_thesis/csvs/rew', # updateloss, testreward, LR, avg_cost, updatelossactor, evalrew\n",
    "    #'key_paths': [\"log_dir_thesis/csvs/testreward\", \"log_dir_thesis/csvs/testreward\", \"log_dir_thesis/csvs/testreward\", \"log_dir_thesis/csvs/testreward\", \"log_dir_thesis/csvs/testreward\", \"log_dir_thesis/csvs/avg_cost\", \"log_dir_thesis/csvs/avg_cost\"],\n",
    "    'y_df_label': 'rew', # test/reward, LR, avg_cost, update/loss/critic2\n",
    "    #'y_df_labels': [\"test/reward\", \"test/reward\", \"test/reward\", \"test/reward\", \"test/reward\", \"avg_cost\", \"avg_cost\"],\n",
    "    'invert_y': [True, True, True, True, True, False, False],\n",
    "    'x_df_label': 'Steps',\n",
    "    #'x_multiplier': 2560,\n",
    "    'y_display_label': 'average solution length',\n",
    "    'x_display_label': 'number of samples trained', # number of samples trained, problem size\n",
    "    'run_names': [\"run_129__20220501T214922_20220502T162901_eval\", \"run_126__20220429T203838_20220502T162059_eval\", \"run_167__20220501T094242_20220502T161457_eval\", \"run_127__20220501T213709_20220502T161756_eval\", \"run_128__20220429T203856_20220502T162316_eval\", \"run_k37__20220504T232308_eval\", \"run_k35__20220502T232038_eval\"],\n",
    "    'line_names': [\"DQN\", \"PG\", \"SAC\", \"A2C\", \"PPO\", \"PG Kool no baseline\", \"PG Kool with baseline\"],\n",
    "    'plot_filename': 'tsp_comparisonsdfsdf',\n",
    "    'legend_title': 'Algorithm',\n",
    "    'is_reward_plot': False,\n",
    "    'y_type': 'linear',\n",
    "    'legend_x': 0.99, # 0.99\n",
    "    'legend_y': 0.55,  # 0.84\n",
    "    'min_x': 0,\n",
    "    'max_x': 100,\n",
    "    'min_y': 1.0, #  3.0\n",
    "    'max_y': 12.5,# 10.8\n",
    "    'tsp_lines': False,\n",
    "    'op_lines': False,\n",
    "    'kool_thinning': 1,\n",
    "    'marker_size': 10\n",
    "}\n",
    "\n",
    "\n",
    "#with open('figure_metas/op_comparison_w_random.json') as json_file: #_loss\n",
    "#    figure_meta = json.load(json_file)\n",
    "\n",
    "#print(figure_meta['key_paths'])\n",
    "#print(figure_meta['y_df_labels'])\n",
    "#print(figure_meta['invert_y'])\n",
    "#print(figure_meta['run_names'])\n",
    "#print(figure_meta['line_names'])\n",
    "\n",
    "\n",
    "#figure_meta['plot_filename'] = 'tsp_final_trainings_zoom'\n",
    "#figure_meta['run_names'] = ['run_129__20220501T214922', 'run_126__20220429T203838', 'run_167__20220501T094242', 'run_127__20220501T213709', 'run_128__20220429T203856', 'run_k37__20220503T151519', 'run_k35__20220502T172652']\n",
    "\n",
    "\n",
    "#figure_meta['line_names'] = ['DQN', 'PG', 'SAC', 'A2C', 'PPO', 'PG Kool no baseline', 'PG Kool with baseline']\n",
    "#figure_meta['invert_y'] = [True, True, True, True, True, False, False]\n",
    "\n",
    "#figure_meta['key_paths'] = ['log_dir_thesis/csvs/testreward', 'log_dir_thesis/csvs/testreward', 'log_dir_thesis/csvs/testreward', 'log_dir_thesis/csvs/testreward', 'log_dir_thesis/csvs/testreward', 'log_dir_thesis/csvs/avg_cost', 'log_dir_thesis/csvs/avg_cost']\n",
    "#figure_meta['y_df_labels'] = ['test/reward', 'test/reward', 'test/reward', 'test/reward', 'test/reward', 'avg_cost', 'avg_cost']\n",
    "#figure_meta['is_reward_plot'] = True\n",
    "\n",
    "#figure_meta['run_names'] = ['run_000__20220408T230926_20220428T010610', 'run_001__20220409T002803_20220428T022531', 'run_002__20220409T014651_20220428T034418', 'run_003__20220409T030406_20220428T050142']\n",
    "\n",
    "#del figure_meta['x_multiplier']\n",
    "\n",
    "#figure_meta['is_reward_plot'] = False\n",
    "#figure_meta['invert_y'] = True\n",
    "#figure_meta['y_type'] = 'log'\n",
    "#figure_meta['y_display_label'] = 'loss'\n",
    "\n",
    "#figure_meta['key_path'] = 'log_dir_thesis/csvs/testreward'\n",
    "#figure_meta['y_df_label'] = 'test/reward'\n",
    "#figure_meta['plot_filename'] = 'pg_fixed_lr'\n",
    "\n",
    "#figure_meta['y_df_label'] = 'update/loss'\n",
    "#figure_meta['x_multiplier'] = 2560 # 64 envs * 20 steps * 2 episodes per collect\n",
    "#figure_meta['plot_filename'] = 'pg_fixed_lr_loss' # pg_fixed_lr_loss\n",
    "\n",
    "\n",
    "filenames = figure_meta['run_names']\n",
    "x_df_label = figure_meta['x_df_label']\n",
    "y_display_label = figure_meta['y_display_label']\n",
    "x_display_label = figure_meta['x_display_label']\n",
    "plot_names = figure_meta['line_names']\n",
    "x_mult = figure_meta['x_multiplier'] if 'x_multiplier' in figure_meta.keys() else 1\n",
    "is_reward_plot = figure_meta['is_reward_plot']\n",
    "invert_y = figure_meta['invert_y']\n",
    "y_type = figure_meta['y_type']\n",
    "legend_x = figure_meta['legend_x']\n",
    "legend_y = figure_meta['legend_y']\n",
    "min_x = figure_meta['min_x']\n",
    "max_x = figure_meta['max_x']\n",
    "min_y = figure_meta['min_y']\n",
    "max_y = figure_meta['max_y']\n",
    "tsp_lines = figure_meta['tsp_lines']\n",
    "op_lines = figure_meta['op_lines']\n",
    "kool_thinning = figure_meta['kool_thinning']\n",
    "marker_size = figure_meta['marker_size']\n",
    "\n",
    "plot_dfs = []\n",
    "filepaths = []\n",
    "if 'key_paths' in figure_meta.keys() and len(figure_meta['key_paths']) > 0:\n",
    "    assert(len(figure_meta['key_paths']) == len(filenames))\n",
    "    y_df_labels = figure_meta['y_df_labels']\n",
    "    for path_str, filename in zip(figure_meta['key_paths'], filenames):\n",
    "        filepaths.append(path_str + \"/\" + filename + \".csv\")\n",
    "else:\n",
    "    path = figure_meta['key_path']\n",
    "    filepaths = [path + \"/\" + filename + \".csv\" for filename in filenames]\n",
    "    if not isinstance(invert_y, list):\n",
    "        invert_y = [invert_y] * len(filepaths)\n",
    "    y_df_labels = [figure_meta['y_df_label']] * len(filepaths)\n",
    "    \n",
    "for i, filepath in enumerate(filepaths):\n",
    "    df = pd.read_csv(filepath, sep=';')\n",
    "    if invert_y[i]:\n",
    "        df[y_df_labels[i]] = -df[y_df_labels[i]]\n",
    "    plot_dfs.append(df)"
   ]
  },
  {
   "cell_type": "code",
   "execution_count": 298,
   "id": "3177a4d9",
   "metadata": {},
   "outputs": [],
   "source": [
    "import plotly.io as pio\n",
    "import plotly.express as px\n",
    "\n",
    "# naming a layout theme for future reference\n",
    "pio.templates[\"google\"] = go.layout.Template(\n",
    "    layout_colorway=['#FD3216','#00FE35','#00B5F6','#EEA6FB','#0DF9FF','#FF9616','#1CBE4F','#EEA6FB'] #Light24 #['#4285F4', '#DB4437', '#F4B400', '#0F9D58', '#185ABC', '#B31412', '#EA8600', '#137333', '#d2e3fc', '#ceead6']\n",
    ") # 1CBE4F\n",
    "\n",
    "# setting Google color palette as default\n",
    "pio.templates.default = \"google\""
   ]
  },
  {
   "cell_type": "code",
   "execution_count": 299,
   "id": "ae958834",
   "metadata": {},
   "outputs": [
    {
     "data": {
      "application/vnd.plotly.v1+json": {
       "config": {
        "plotlyServerURL": "https://plot.ly"
       },
       "data": [
        {
         "line": {
          "width": 3
         },
         "marker": {
          "size": 10
         },
         "name": "DQN",
         "type": "scatter",
         "x": [
          5,
          10,
          20,
          30,
          40,
          50,
          100
         ],
         "y": [
          2.1627814769744877,
          2.895516872406006,
          3.928513765335083,
          4.810858726501465,
          5.685633659362793,
          6.557736873626709,
          10.51479148864746
         ]
        },
        {
         "line": {
          "width": 3
         },
         "marker": {
          "size": 10
         },
         "name": "PG",
         "type": "scatter",
         "x": [
          5,
          10,
          20,
          30,
          40,
          50,
          100
         ],
         "y": [
          2.150036573410034,
          2.9518418312072754,
          4.066646575927734,
          4.982768058776856,
          5.883059024810791,
          6.712114334106445,
          10.393939018249512
         ]
        },
        {
         "line": {
          "width": 3
         },
         "marker": {
          "size": 10
         },
         "name": "SAC",
         "type": "scatter",
         "x": [
          5,
          10,
          20,
          30,
          40,
          50,
          100
         ],
         "y": [
          2.1242592334747314,
          2.88284683227539,
          3.8982417583465576,
          4.705033779144287,
          5.447083950042725,
          6.149661064147949,
          9.282687187194824
         ]
        },
        {
         "line": {
          "width": 3
         },
         "marker": {
          "size": 10
         },
         "name": "A2C",
         "type": "scatter",
         "x": [
          5,
          10,
          20,
          30,
          40,
          50,
          100
         ],
         "y": [
          2.1470913887023926,
          2.901315927505493,
          3.945054531097412,
          4.825475215911865,
          5.637842178344727,
          6.449617862701416,
          9.972100257873535
         ]
        },
        {
         "line": {
          "width": 3
         },
         "marker": {
          "size": 10
         },
         "name": "PPO",
         "type": "scatter",
         "x": [
          5,
          10,
          20,
          30,
          40,
          50,
          100
         ],
         "y": [
          2.1470913887023926,
          2.892178773880005,
          3.9287302494049072,
          4.799893856048584,
          5.588020324707031,
          6.373536109924316,
          9.75911808013916
         ]
        },
        {
         "line": {
          "width": 3
         },
         "marker": {
          "size": 10
         },
         "name": "PG Kool no baseline",
         "type": "scatter",
         "x": [
          20,
          30,
          40,
          50,
          100
         ],
         "y": [
          4.112281322479248,
          5.155414581298828,
          6.208939552307129,
          7.210257530212402,
          11.918220520019531
         ]
        },
        {
         "line": {
          "width": 3
         },
         "marker": {
          "size": 10
         },
         "name": "PG Kool with baseline",
         "type": "scatter",
         "x": [
          5,
          10,
          20,
          30,
          40,
          50,
          100
         ],
         "y": [
          2.1336429119110107,
          2.8670494556427,
          3.883364200592041,
          4.708474159240723,
          5.471884727478027,
          6.169581890106201,
          9.40282154083252
         ]
        }
       ],
       "layout": {
        "autosize": false,
        "font": {
         "family": "libertine",
         "size": 28
        },
        "height": 800,
        "legend": {
         "bgcolor": "rgba(255,255,255,0.8)",
         "title": {
          "text": "Algorithm"
         },
         "x": 0.99,
         "xanchor": "right",
         "y": 0.55,
         "yanchor": "top"
        },
        "margin": {
         "b": 80,
         "l": 100,
         "pad": 4,
         "r": 70,
         "t": 30
        },
        "template": {
         "layout": {
          "colorway": [
           "#FD3216",
           "#00FE35",
           "#00B5F6",
           "#EEA6FB",
           "#0DF9FF",
           "#FF9616",
           "#1CBE4F",
           "#EEA6FB"
          ]
         }
        },
        "width": 2000,
        "xaxis": {
         "range": [
          0,
          100
         ],
         "rangemode": "tozero",
         "title": {
          "text": "number of samples trained"
         }
        },
        "yaxis": {
         "range": [
          1,
          12.5
         ],
         "rangemode": "tozero",
         "title": {
          "text": "average solution length"
         },
         "type": "linear"
        }
       }
      },
      "text/html": [
       "<div>                            <div id=\"48deb104-6a2e-4caa-9d3c-0177e39c7168\" class=\"plotly-graph-div\" style=\"height:800px; width:2000px;\"></div>            <script type=\"text/javascript\">                require([\"plotly\"], function(Plotly) {                    window.PLOTLYENV=window.PLOTLYENV || {};                                    if (document.getElementById(\"48deb104-6a2e-4caa-9d3c-0177e39c7168\")) {                    Plotly.newPlot(                        \"48deb104-6a2e-4caa-9d3c-0177e39c7168\",                        [{\"line\":{\"width\":3},\"marker\":{\"size\":10},\"name\":\"DQN\",\"x\":[5,10,20,30,40,50,100],\"y\":[2.1627814769744877,2.895516872406006,3.928513765335083,4.810858726501465,5.685633659362793,6.557736873626709,10.51479148864746],\"type\":\"scatter\"},{\"line\":{\"width\":3},\"marker\":{\"size\":10},\"name\":\"PG\",\"x\":[5,10,20,30,40,50,100],\"y\":[2.150036573410034,2.9518418312072754,4.066646575927734,4.982768058776856,5.883059024810791,6.712114334106445,10.393939018249512],\"type\":\"scatter\"},{\"line\":{\"width\":3},\"marker\":{\"size\":10},\"name\":\"SAC\",\"x\":[5,10,20,30,40,50,100],\"y\":[2.1242592334747314,2.88284683227539,3.8982417583465576,4.705033779144287,5.447083950042725,6.149661064147949,9.282687187194824],\"type\":\"scatter\"},{\"line\":{\"width\":3},\"marker\":{\"size\":10},\"name\":\"A2C\",\"x\":[5,10,20,30,40,50,100],\"y\":[2.1470913887023926,2.901315927505493,3.945054531097412,4.825475215911865,5.637842178344727,6.449617862701416,9.972100257873535],\"type\":\"scatter\"},{\"line\":{\"width\":3},\"marker\":{\"size\":10},\"name\":\"PPO\",\"x\":[5,10,20,30,40,50,100],\"y\":[2.1470913887023926,2.892178773880005,3.9287302494049072,4.799893856048584,5.588020324707031,6.373536109924316,9.75911808013916],\"type\":\"scatter\"},{\"line\":{\"width\":3},\"marker\":{\"size\":10},\"name\":\"PG Kool no baseline\",\"x\":[20,30,40,50,100],\"y\":[4.112281322479248,5.155414581298828,6.208939552307129,7.210257530212402,11.918220520019531],\"type\":\"scatter\"},{\"line\":{\"width\":3},\"marker\":{\"size\":10},\"name\":\"PG Kool with baseline\",\"x\":[5,10,20,30,40,50,100],\"y\":[2.1336429119110107,2.8670494556427,3.883364200592041,4.708474159240723,5.471884727478027,6.169581890106201,9.40282154083252],\"type\":\"scatter\"}],                        {\"template\":{\"layout\":{\"colorway\":[\"#FD3216\",\"#00FE35\",\"#00B5F6\",\"#EEA6FB\",\"#0DF9FF\",\"#FF9616\",\"#1CBE4F\",\"#EEA6FB\"]}},\"font\":{\"family\":\"libertine\",\"size\":28},\"margin\":{\"l\":100,\"r\":70,\"b\":80,\"t\":30,\"pad\":4},\"yaxis\":{\"title\":{\"text\":\"average solution length\"},\"type\":\"linear\",\"range\":[1.0,12.5],\"rangemode\":\"tozero\"},\"xaxis\":{\"title\":{\"text\":\"number of samples trained\"},\"range\":[0,100],\"rangemode\":\"tozero\"},\"legend\":{\"title\":{\"text\":\"Algorithm\"},\"yanchor\":\"top\",\"y\":0.55,\"xanchor\":\"right\",\"x\":0.99,\"bgcolor\":\"rgba(255,255,255,0.8)\"},\"autosize\":false,\"width\":2000,\"height\":800},                        {\"responsive\": true}                    ).then(function(){\n",
       "                            \n",
       "var gd = document.getElementById('48deb104-6a2e-4caa-9d3c-0177e39c7168');\n",
       "var x = new MutationObserver(function (mutations, observer) {{\n",
       "        var display = window.getComputedStyle(gd).display;\n",
       "        if (!display || display === 'none') {{\n",
       "            console.log([gd, 'removed!']);\n",
       "            Plotly.purge(gd);\n",
       "            observer.disconnect();\n",
       "        }}\n",
       "}});\n",
       "\n",
       "// Listen for the removal of the full notebook cells\n",
       "var notebookContainer = gd.closest('#notebook-container');\n",
       "if (notebookContainer) {{\n",
       "    x.observe(notebookContainer, {childList: true});\n",
       "}}\n",
       "\n",
       "// Listen for the clearing of the current output cell\n",
       "var outputEl = gd.closest('.output');\n",
       "if (outputEl) {{\n",
       "    x.observe(outputEl, {childList: true});\n",
       "}}\n",
       "\n",
       "                        })                };                });            </script>        </div>"
      ]
     },
     "metadata": {},
     "output_type": "display_data"
    }
   ],
   "source": [
    "# https://plotly.com/python/plot-data-from-csv/\n",
    "# https://stackoverflow.com/questions/64500472/plot-multiple-pandas-dataframes-in-one-graph-python-plotly\n",
    "import plotly.express as px\n",
    "import plotly.graph_objects as go\n",
    "import plotly.io as pio\n",
    "pio.kaleido.scope.mathjax = None # https://github.com/plotly/plotly.py/issues/3469\n",
    "\n",
    "fig = go.Figure()\n",
    "for i, (name, df) in enumerate(zip(plot_names, plot_dfs)):\n",
    "    if \"Kool\" in name:\n",
    "        fig = fig.add_trace(go.Scatter(x = df[x_df_label][::kool_thinning] * x_mult, # 40\n",
    "                                   y = df[y_df_labels[i]][::kool_thinning], \n",
    "                                   name = name,\n",
    "                                   marker=dict(size=marker_size),\n",
    "                                   line=dict(width=3))) # , marker=dict(size=10)\n",
    "    else:\n",
    "        fig = fig.add_trace(go.Scatter(x = df[x_df_label][::1] * x_mult,\n",
    "                                   y = df[y_df_labels[i]][::1], \n",
    "                                   name = name,\n",
    "                                   marker=dict(size=marker_size),\n",
    "                                   line=dict(width=3)))\n",
    "\n",
    "fig.update_layout(\n",
    "    font_family=\"libertine\",\n",
    "    font_size=28,\n",
    "    autosize=False,\n",
    "    width=2000,\n",
    "    height=800,\n",
    "    margin=dict(\n",
    "        l=100,\n",
    "        r=70,\n",
    "        b=80,\n",
    "        t=30,\n",
    "        pad=4\n",
    "    ),\n",
    "    yaxis=dict(\n",
    "        title_text=y_display_label,\n",
    "        type=\"linear\" if is_reward_plot else y_type,\n",
    "        range=(min_y, max_y), \n",
    "        rangemode=\"tozero\",\n",
    "        #tickformat='.0e',\n",
    "        \n",
    "        #ticktext=[\"-0.1\", \"-1\", \"-10\", \"-100\", \"-1000\", \"-10k\", \"-100k\", \"-1M\", \"-10M\"],\n",
    "        #tickvals=[0.1, 1, 10, 100, 1000, 10000, 100000, 1000000, 10000000],\n",
    "        #tickmode=\"array\",\n",
    "        #titlefont=dict(size=30),\n",
    "    ),\n",
    "    xaxis=dict(\n",
    "        title_text=x_display_label,\n",
    "        range=None if is_reward_plot else (min_x, max_x), # x_mult*df[x_df_label].iloc[-1]\n",
    "        rangemode=\"tozero\",\n",
    "        #ticktext=[\"Very long label\", \"long label\", \"3\", \"label\"],\n",
    "        #tickvals=[1, 2, 3, 4],\n",
    "        #tickmode=\"array\",\n",
    "        #titlefont=dict(size=30),\n",
    "    ),\n",
    "    title=dict(\n",
    "        #text=title,\n",
    "    ),\n",
    "    legend=dict(\n",
    "        yanchor=\"top\",\n",
    "        y=legend_y, # 84   6\n",
    "        xanchor=\"right\",\n",
    "        x=legend_x, #0.99,\n",
    "        bgcolor='rgba(255,255,255,0.8)'\n",
    "    ),\n",
    "    legend_title_text=figure_meta['legend_title'],\n",
    "    #paper_bgcolor=\"LightSteelBlue\",\n",
    ")\n",
    "# https://plotly.com/python/horizontal-vertical-shapes/\n",
    "if tsp_lines:\n",
    "    fig.add_hline(y=10.43, line_dash=\"dot\", annotation_text=\"random\", annotation_position=\"bottom right\")\n",
    "    fig.add_hline(y=3.84, line_dash=\"dot\", annotation_text=\"optimal\", annotation_position=\"bottom right\")\n",
    "    \n",
    "if op_lines:\n",
    "    fig.add_hline(y=1.58, line_dash=\"dot\", annotation_text=\"random\", annotation_position=\"bottom right\")\n",
    "    fig.add_hline(y=5.39, line_dash=\"dot\", annotation_text=\"optimal\", annotation_position=\"bottom right\")\n",
    "\n",
    "#fig.add_hline(y=3.84, line_dash=\"dot\", annotation_text=\"optimal (20)\", annotation_position=\"bottom right\")\n",
    "#fig.add_hline(y=5.70, line_dash=\"dot\", annotation_text=\"optimal (50)\", annotation_position=\"bottom right\")\n",
    "#fig.add_hline(y=7.76, line_dash=\"dot\", annotation_text=\"optimal (100)\", annotation_position=\"bottom right\")\n",
    "\n",
    "fig.show()\n",
    "fig.write_image(\"figures/\" + figure_meta['plot_filename'] + \".pdf\")\n",
    "\n",
    "with open(\"figure_metas/\" + figure_meta['plot_filename'] + \".json\", \"w\") as fp:\n",
    "    json.dump(figure_meta,fp)\n",
    "    "
   ]
  },
  {
   "cell_type": "code",
   "execution_count": null,
   "id": "4421fb94",
   "metadata": {},
   "outputs": [],
   "source": []
  },
  {
   "cell_type": "code",
   "execution_count": 129,
   "id": "3768b884",
   "metadata": {},
   "outputs": [
    {
     "ename": "NameError",
     "evalue": "name 'df1' is not defined",
     "output_type": "error",
     "traceback": [
      "\u001b[0;31m---------------------------------------------------------------------------\u001b[0m",
      "\u001b[0;31mNameError\u001b[0m                                 Traceback (most recent call last)",
      "Input \u001b[0;32mIn [129]\u001b[0m, in \u001b[0;36m<cell line: 6>\u001b[0;34m()\u001b[0m\n\u001b[1;32m      4\u001b[0m y_name \u001b[38;5;241m=\u001b[39m \u001b[38;5;124m'\u001b[39m\u001b[38;5;124mtest/reward\u001b[39m\u001b[38;5;124m'\u001b[39m\n\u001b[1;32m      5\u001b[0m fig, ax \u001b[38;5;241m=\u001b[39m plt\u001b[38;5;241m.\u001b[39msubplots()\n\u001b[0;32m----> 6\u001b[0m plt\u001b[38;5;241m.\u001b[39mplot(\u001b[43mdf1\u001b[49m[x_name], df1[y_name])\n\u001b[1;32m      7\u001b[0m plt\u001b[38;5;241m.\u001b[39mplot(df2[x_name], df2[y_name])\n\u001b[1;32m      8\u001b[0m plt\u001b[38;5;241m.\u001b[39mplot(df3[x_name], df3[y_name])\n",
      "\u001b[0;31mNameError\u001b[0m: name 'df1' is not defined"
     ]
    },
    {
     "data": {
      "image/png": "[encoded data removed]",
      "text/plain": [
       "<Figure size 432x288 with 1 Axes>"
      ]
     },
     "metadata": {
      "needs_background": "light"
     },
     "output_type": "display_data"
    }
   ],
   "source": [
    "import matplotlib.pyplot as plt\n",
    "import numpy as np\n",
    "x_name = 'Steps'\n",
    "y_name = 'test/reward'\n",
    "fig, ax = plt.subplots()\n",
    "plt.plot(df1[x_name], df1[y_name])\n",
    "plt.plot(df2[x_name], df2[y_name])\n",
    "plt.plot(df3[x_name], df3[y_name])\n",
    "\n",
    "ax.set(xlabel='Env Steps', ylabel='Avg Score')\n",
    "#ax.set_ylim(ymin=0)\n",
    "ax.grid()\n",
    "\n",
    "fig.set_size_inches(16, 9)\n",
    "#fig.savefig(\"test.png\")\n",
    "plt.show()"
   ]
  },
  {
   "cell_type": "code",
   "execution_count": null,
   "id": "93c50ec2",
   "metadata": {},
   "outputs": [],
   "source": [
    "# !pip install -U kaleido"
   ]
  }
 ],
 "metadata": {
  "kernelspec": {
   "display_name": "Python 3 (ipykernel)",
   "language": "python",
   "name": "python3"
  },
  "language_info": {
   "codemirror_mode": {
    "name": "ipython",
    "version": 3
   },
   "file_extension": ".py",
   "mimetype": "text/x-python",
   "name": "python",
   "nbconvert_exporter": "python",
   "pygments_lexer": "ipython3",
   "version": "3.8.12"
  }
 },
 "nbformat": 4,
 "nbformat_minor": 5
}
