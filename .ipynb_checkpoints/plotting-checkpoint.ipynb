{
 "cells": [
  {
   "cell_type": "code",
   "execution_count": 1,
   "id": "65da6383",
   "metadata": {},
   "outputs": [],
   "source": [
    "import kaleido\n",
    "import pandas as pd\n",
    "import glob\n",
    "import json\n",
    "import os"
   ]
  },
  {
   "cell_type": "code",
   "execution_count": 2,
   "id": "b54c1f19",
   "metadata": {},
   "outputs": [],
   "source": [
    "meta_files = os.listdir(\"figure_metas/thesis\")\n",
    "file_id = 0"
   ]
  },
  {
   "cell_type": "code",
   "execution_count": 3,
   "id": "190adb0b",
   "metadata": {},
   "outputs": [
    {
     "data": {
      "text/plain": [
       "['op_final_trainings.json',\n",
       " 'op_comparison_w_random.json',\n",
       " 'op_comparison.json',\n",
       " 'op_final_trainings_zoom.json']"
      ]
     },
     "execution_count": 3,
     "metadata": {},
     "output_type": "execute_result"
    }
   ],
   "source": [
    "meta_files = [file for file in meta_files if file[:2] == 'op']\n",
    "meta_files"
   ]
  },
  {
   "cell_type": "code",
   "execution_count": 4,
   "id": "d48f5f37",
   "metadata": {},
   "outputs": [],
   "source": [
    "import plotly.io as pio\n",
    "import plotly.express as px\n",
    "import plotly.graph_objects as go\n",
    "\n",
    "# naming a layout theme for future reference\n",
    "pio.templates[\"google\"] = go.layout.Template(\n",
    "    layout_colorway=['#FD3216','#00FE35','#00B5F6','#EEA6FB','#0DF9FF','#FF9616','#1CBE4F','#EEA6FB'] #Light24 #['#4285F4', '#DB4437', '#F4B400', '#0F9D58', '#185ABC', '#B31412', '#EA8600', '#137333', '#d2e3fc', '#ceead6']\n",
    ") # 1CBE4F\n",
    "\n",
    "# setting Google color palette as default\n",
    "pio.templates.default = \"google\"\n",
    "\n",
    "file_id = 0"
   ]
  },
  {
   "cell_type": "code",
   "execution_count": 8,
   "id": "bbcdb4e2",
   "metadata": {},
   "outputs": [],
   "source": [
    "#### \n",
    "# get data file names\n",
    "\n",
    "# CREATE META DATA FOR NEW PLOT\n",
    "figure_meta = {\n",
    "    'key_path': 'log_dir/evals/csvs/rew', # updateloss, testreward, LR, avg_cost, updatelossactor, evalrew\n",
    "    #'key_paths': [\"log_dir_thesis/csvs/testreward\", \"log_dir_thesis/csvs/testreward\", \"log_dir_thesis/csvs/testreward\", \"log_dir_thesis/csvs/testreward\", \"log_dir_thesis/csvs/testreward\", \"log_dir_thesis/csvs/avg_cost\", \"log_dir_thesis/csvs/avg_cost\"],\n",
    "    'y_df_label': 'rew', # test/reward, LR, avg_cost, update/loss/critic2\n",
    "    #'y_df_labels': [\"test/reward\", \"test/reward\", \"test/reward\", \"test/reward\", \"test/reward\", \"avg_cost\", \"avg_cost\"],\n",
    "    'invert_y': True, #[True, True, True, True, True, False, False],\n",
    "    'x_df_label': 'Steps',\n",
    "    #'x_multiplier': 2560,\n",
    "    'y_display_label': 'average solution length',\n",
    "    'x_display_label': 'number of samples trained', # number of samples trained, problem size\n",
    "    'run_names': [\"run_126__20230823T094932_20230823T192656\", \"run_127__20230823T094935_20230824T095935\", \"run_128__20230823T094939_20230824T100113\", \"run_167__20230823T013125_20230823T185537\"],\n",
    "    'line_names': [\"1\", \"2\", \"3\", \"4\"],#[\"DQN\", \"PG\", \"SAC\", \"A2C\", \"PPO\", \"PG Kool no baseline\", \"PG Kool with baseline\"],\n",
    "    'plot_filename': 'test_1',\n",
    "    'legend_title': 'Algorithm',\n",
    "    'is_reward_plot': False,\n",
    "    'y_type': 'linear',\n",
    "    'legend_x': 0.99, # 0.99\n",
    "    'legend_y': 0.55,  # 0.84\n",
    "    'min_x': 0,\n",
    "    'max_x': 100,\n",
    "    'min_y': 1.0, #  3.0\n",
    "    'max_y': 12.5,# 10.8\n",
    "    'tsp_lines': False,\n",
    "    'op_lines': False,\n",
    "    'kool_thinning': 1,\n",
    "    'marker_size': 10\n",
    "}\n",
    "\n",
    "# LOADING META DATA OF EXISTING PLOT\n",
    "#meta_name = meta_files[file_id]\n",
    "#file_id +=1\n",
    "#with open(\"figure_metas/paper/\" + meta_name) as json_file: #_loss\n",
    "#    figure_meta = json.load(json_file)\n",
    "\n",
    "\n",
    "# ADJUST META DATA FIELDS\n",
    "#figure_meta['y_display_label'] = 'average collected prizes' #'alpha' # 'average solution length' # 'learning rate' # 'loss'\n",
    "#figure_meta['x_display_label'] = 'number of samples trained'\n",
    "#figure_meta['y_type'] = 'linear'\n",
    "#figure_meta['legend_x'] = 0.99      # 0.99\n",
    "#figure_meta['legend_y'] = 0.60      # 0.84\n",
    "#figure_meta['is_reward_plot'] = False\n",
    "#figure_meta['min_x'] = 0\n",
    "#figure_meta['max_x'] = 12800000\n",
    "#figure_meta['min_y'] = 3.7          #  3.0\n",
    "#figure_meta['max_y'] = 4.6       # 10.8\n",
    "#figure_meta['tsp_lines'] = False\n",
    "#figure_meta['op_lines'] = False\n",
    "#figure_meta['kool_thinning'] = 40\n",
    "#figure_meta['marker_size'] = 1\n",
    "#figure_meta['x_multiplier'] = 2560\n",
    "#figure_meta['invert_y'] = False\n",
    "#figure_meta['invert_y'] = [True, True, True, True, True, False, False]\n",
    "#figure_meta['scientific'] = False\n",
    "#figure_meta['is_kool_plot'] = True\n",
    "#figure_meta['is_neg_loss_plot'] = True\n",
    "\n",
    "\n",
    "\n",
    "if 'scientific' not in figure_meta.keys():\n",
    "    figure_meta['scientific'] = False\n",
    "    \n",
    "if 'x_multiplier' not in figure_meta.keys():\n",
    "    figure_meta['x_multiplier'] = 1\n",
    "\n",
    "if 'is_kool_plot' not in figure_meta.keys():\n",
    "    figure_meta['is_kool_plot'] = False\n",
    "    \n",
    "if 'is_neg_loss_plot' not in figure_meta.keys():\n",
    "    figure_meta['is_neg_loss_plot'] = False\n",
    "\n",
    "\n",
    "\n",
    "#print(figure_meta['key_paths'])\n",
    "#print(figure_meta['y_df_labels'])\n",
    "#print(figure_meta['invert_y'])\n",
    "#print(figure_meta['run_names'])\n",
    "#print(figure_meta['line_names'])\n",
    "\n",
    "\n",
    "#figure_meta['plot_filename'] = 'tsp_final_trainings_zoom'\n",
    "#figure_meta['run_names'] = ['run_129__20220501T214922', 'run_126__20220429T203838', 'run_167__20220501T094242', 'run_127__20220501T213709', 'run_128__20220429T203856', 'run_k37__20220503T151519', 'run_k35__20220502T172652']\n",
    "\n",
    "\n",
    "#figure_meta['line_names'] = ['DQN', 'PG', 'SAC', 'A2C', 'PPO', 'PG Kool no baseline', 'PG Kool with baseline']\n",
    "#figure_meta['invert_y'] = [True, True, True, True, True, False, False]\n",
    "\n",
    "#figure_meta['key_paths'] = ['log_dir_thesis/csvs/testreward', 'log_dir_thesis/csvs/testreward', 'log_dir_thesis/csvs/testreward', 'log_dir_thesis/csvs/testreward', 'log_dir_thesis/csvs/testreward', 'log_dir_thesis/csvs/avg_cost', 'log_dir_thesis/csvs/avg_cost']\n",
    "#figure_meta['y_df_labels'] = ['test/reward', 'test/reward', 'test/reward', 'test/reward', 'test/reward', 'avg_cost', 'avg_cost']\n",
    "#figure_meta['is_reward_plot'] = True\n",
    "\n",
    "#figure_meta['run_names'] = ['run_000__20220408T230926_20220428T010610', 'run_001__20220409T002803_20220428T022531', 'run_002__20220409T014651_20220428T034418', 'run_003__20220409T030406_20220428T050142']\n",
    "\n",
    "#del figure_meta['x_multiplier']\n",
    "\n",
    "#figure_meta['is_reward_plot'] = False\n",
    "#figure_meta['invert_y'] = True\n",
    "#figure_meta['y_type'] = 'log'\n",
    "#figure_meta['y_display_label'] = 'loss'\n",
    "\n",
    "#figure_meta['key_path'] = 'log_dir_thesis/csvs/testreward'\n",
    "#figure_meta['y_df_label'] = 'test/reward'\n",
    "#figure_meta['plot_filename'] = 'pg_fixed_lr'\n",
    "\n",
    "#figure_meta['y_df_label'] = 'update/loss'\n",
    "#figure_meta['x_multiplier'] = 2560 # 64 envs * 20 steps * 2 episodes per collect\n",
    "#figure_meta['plot_filename'] = 'pg_fixed_lr_loss' # pg_fixed_lr_loss\n",
    "\n",
    "\n",
    "filenames = figure_meta['run_names']\n",
    "x_df_label = figure_meta['x_df_label']\n",
    "y_display_label = figure_meta['y_display_label']\n",
    "x_display_label = figure_meta['x_display_label']\n",
    "plot_names = figure_meta['line_names']\n",
    "x_mult = figure_meta['x_multiplier']\n",
    "is_reward_plot = figure_meta['is_reward_plot']\n",
    "invert_y = figure_meta['invert_y']\n",
    "y_type = figure_meta['y_type']\n",
    "legend_x = figure_meta['legend_x']\n",
    "legend_y = figure_meta['legend_y']\n",
    "min_x = figure_meta['min_x']\n",
    "max_x = figure_meta['max_x']\n",
    "min_y = figure_meta['min_y']\n",
    "max_y = figure_meta['max_y']\n",
    "tsp_lines = figure_meta['tsp_lines']\n",
    "op_lines = figure_meta['op_lines']\n",
    "kool_thinning = figure_meta['kool_thinning']\n",
    "marker_size = figure_meta['marker_size']\n",
    "scientific = figure_meta['scientific']\n",
    "\n",
    "plot_dfs = []\n",
    "filepaths = []\n",
    "if 'key_paths' in figure_meta.keys() and len(figure_meta['key_paths']) > 0:\n",
    "    assert(len(figure_meta['key_paths']) == len(filenames))\n",
    "    y_df_labels = figure_meta['y_df_labels']\n",
    "    for path_str, filename in zip(figure_meta['key_paths'], filenames):\n",
    "        filepaths.append(path_str + \"/\" + filename + \".csv\")\n",
    "else:\n",
    "    path = figure_meta['key_path']\n",
    "    filepaths = [path + \"/\" + filename + \".csv\" for filename in filenames]\n",
    "    if not isinstance(invert_y, list):\n",
    "        invert_y = [invert_y] * len(filepaths)\n",
    "    y_df_labels = [figure_meta['y_df_label']] * len(filepaths)\n",
    "    \n",
    "for i, filepath in enumerate(filepaths):\n",
    "    df = pd.read_csv(filepath, sep=';')\n",
    "    if invert_y[i]:\n",
    "        df[y_df_labels[i]] = -df[y_df_labels[i]]\n",
    "    plot_dfs.append(df)"
   ]
  },
  {
   "cell_type": "code",
   "execution_count": 12,
   "id": "ae958834",
   "metadata": {},
   "outputs": [
    {
     "data": {
      "application/vnd.plotly.v1+json": {
       "config": {
        "plotlyServerURL": "https://plot.ly"
       },
       "data": [
        {
         "line": {
          "width": 3
         },
         "marker": {
          "size": 10
         },
         "name": "1",
         "selectedpoints": [
          5
         ],
         "type": "scatter",
         "x": [
          5,
          10,
          20,
          30,
          40,
          50,
          100
         ],
         "y": [
          2.177561044692993,
          2.977646827697754,
          4.107557773590088,
          5.064444541931152,
          5.928393840789795,
          6.76753044128418,
          10.408933639526367
         ]
        },
        {
         "line": {
          "width": 3
         },
         "marker": {
          "size": 10
         },
         "name": "2",
         "selectedpoints": [
          5
         ],
         "type": "scatter",
         "x": [
          5,
          10,
          20,
          30,
          40,
          50,
          100
         ],
         "y": [
          2.143007278442383,
          2.932945728302002,
          3.9239752292633057,
          4.789694309234619,
          5.531129360198975,
          6.290140628814697,
          9.543956756591797
         ]
        },
        {
         "line": {
          "width": 3
         },
         "marker": {
          "size": 10
         },
         "name": "3",
         "selectedpoints": [
          5
         ],
         "type": "scatter",
         "x": [
          5,
          10,
          20,
          30,
          40,
          50,
          100
         ],
         "y": [
          2.16575026512146,
          2.909461975097656,
          3.9539425373077393,
          4.809213638305664,
          5.535577297210693,
          6.2930192947387695,
          9.551594734191896
         ]
        },
        {
         "line": {
          "width": 3
         },
         "marker": {
          "size": 10
         },
         "name": "4",
         "selectedpoints": [
          5
         ],
         "type": "scatter",
         "x": [
          5,
          10,
          20,
          30,
          40,
          50,
          100
         ],
         "y": [
          2.135661363601685,
          2.8977181911468506,
          3.905897617340088,
          4.709254741668701,
          5.414271354675293,
          6.080927848815918,
          9.018593788146973
         ]
        }
       ],
       "layout": {
        "autosize": false,
        "dragmode": "pan",
        "font": {
         "family": "libertine",
         "size": 28
        },
        "height": 666,
        "legend": {
         "bgcolor": "rgba(255,255,255,0.8)",
         "title": {
          "text": "Algorithm"
         },
         "x": 0.99,
         "xanchor": "right",
         "y": 0.55,
         "yanchor": "top"
        },
        "margin": {
         "b": 80,
         "l": 120,
         "pad": 4,
         "r": 70,
         "t": 30
        },
        "selections": [
         {
          "line": {
           "dash": "dot",
           "width": 1
          },
          "type": "rect",
          "x0": 35.4386994068388,
          "x1": 60.438681960921144,
          "xref": "x",
          "y0": 6.051656417949974,
          "y1": 7.28749660048684,
          "yref": "y"
         }
        ],
        "template": {
         "layout": {
          "colorway": [
           "#FD3216",
           "#00FE35",
           "#00B5F6",
           "#EEA6FB",
           "#0DF9FF",
           "#FF9616",
           "#1CBE4F",
           "#EEA6FB"
          ]
         }
        },
        "width": 1000,
        "xaxis": {
         "autorange": false,
         "range": [
          21.150994417306386,
          74.84952896022328
         ],
         "rangemode": "tozero",
         "showspikes": false,
         "title": {
          "text": "number of samples trained"
         },
         "type": "linear"
        },
        "yaxis": {
         "autorange": false,
         "range": [
          3.9905344340724818,
          8.704553070487885
         ],
         "rangemode": "tozero",
         "showspikes": false,
         "title": {
          "text": "average solution length"
         },
         "type": "linear"
        }
       }
      },
      "image/png": "[encoded data removed]",
      "text/html": [
       "<div>                            <div id=\"72624cfc-7bee-4325-b09a-60e6ef01d205\" class=\"plotly-graph-div\" style=\"height:666px; width:1000px;\"></div>            <script type=\"text/javascript\">                require([\"plotly\"], function(Plotly) {                    window.PLOTLYENV=window.PLOTLYENV || {};                                    if (document.getElementById(\"72624cfc-7bee-4325-b09a-60e6ef01d205\")) {                    Plotly.newPlot(                        \"72624cfc-7bee-4325-b09a-60e6ef01d205\",                        [{\"line\":{\"width\":3},\"marker\":{\"size\":10},\"name\":\"1\",\"x\":[5,10,20,30,40,50,100],\"y\":[2.177561044692993,2.977646827697754,4.107557773590088,5.064444541931152,5.928393840789795,6.76753044128418,10.408933639526367],\"type\":\"scatter\"},{\"line\":{\"width\":3},\"marker\":{\"size\":10},\"name\":\"2\",\"x\":[5,10,20,30,40,50,100],\"y\":[2.143007278442383,2.932945728302002,3.9239752292633057,4.789694309234619,5.531129360198975,6.290140628814697,9.543956756591797],\"type\":\"scatter\"},{\"line\":{\"width\":3},\"marker\":{\"size\":10},\"name\":\"3\",\"x\":[5,10,20,30,40,50,100],\"y\":[2.16575026512146,2.909461975097656,3.9539425373077393,4.809213638305664,5.535577297210693,6.2930192947387695,9.551594734191896],\"type\":\"scatter\"},{\"line\":{\"width\":3},\"marker\":{\"size\":10},\"name\":\"4\",\"x\":[5,10,20,30,40,50,100],\"y\":[2.135661363601685,2.8977181911468506,3.905897617340088,4.709254741668701,5.414271354675293,6.080927848815918,9.018593788146973],\"type\":\"scatter\"}],                        {\"template\":{\"layout\":{\"colorway\":[\"#FD3216\",\"#00FE35\",\"#00B5F6\",\"#EEA6FB\",\"#0DF9FF\",\"#FF9616\",\"#1CBE4F\",\"#EEA6FB\"]}},\"font\":{\"family\":\"libertine\",\"size\":28},\"margin\":{\"l\":120,\"r\":70,\"b\":80,\"t\":30,\"pad\":4},\"yaxis\":{\"title\":{\"text\":\"average solution length\"},\"type\":\"linear\",\"range\":[1.0,12.5],\"rangemode\":\"tozero\"},\"xaxis\":{\"title\":{\"text\":\"number of samples trained\"},\"range\":[0,100],\"rangemode\":\"tozero\"},\"legend\":{\"title\":{\"text\":\"Algorithm\"},\"yanchor\":\"top\",\"y\":0.55,\"xanchor\":\"right\",\"x\":0.99,\"bgcolor\":\"rgba(255,255,255,0.8)\"},\"autosize\":false,\"width\":1000,\"height\":666},                        {\"responsive\": true}                    ).then(function(){\n",
       "                            \n",
       "var gd = document.getElementById('72624cfc-7bee-4325-b09a-60e6ef01d205');\n",
       "var x = new MutationObserver(function (mutations, observer) {{\n",
       "        var display = window.getComputedStyle(gd).display;\n",
       "        if (!display || display === 'none') {{\n",
       "            console.log([gd, 'removed!']);\n",
       "            Plotly.purge(gd);\n",
       "            observer.disconnect();\n",
       "        }}\n",
       "}});\n",
       "\n",
       "// Listen for the removal of the full notebook cells\n",
       "var notebookContainer = gd.closest('#notebook-container');\n",
       "if (notebookContainer) {{\n",
       "    x.observe(notebookContainer, {childList: true});\n",
       "}}\n",
       "\n",
       "// Listen for the clearing of the current output cell\n",
       "var outputEl = gd.closest('.output');\n",
       "if (outputEl) {{\n",
       "    x.observe(outputEl, {childList: true});\n",
       "}}\n",
       "\n",
       "                        })                };                });            </script>        </div>"
      ]
     },
     "metadata": {},
     "output_type": "display_data"
    }
   ],
   "source": [
    "# https://plotly.com/python/plot-data-from-csv/\n",
    "# https://stackoverflow.com/questions/64500472/plot-multiple-pandas-dataframes-in-one-graph-python-plotly\n",
    "import plotly.express as px\n",
    "import plotly.graph_objects as go\n",
    "import plotly.io as pio\n",
    "#pio.kaleido.scope.mathjax = None # https://github.com/plotly/plotly.py/issues/3469\n",
    "\n",
    "fig = go.Figure()\n",
    "for i, (name, df) in enumerate(zip(plot_names, plot_dfs)):\n",
    "    if \"Kool\" in name or figure_meta['is_kool_plot']:\n",
    "        fig = fig.add_trace(go.Scatter(x = df[x_df_label][::kool_thinning] * x_mult, # 40\n",
    "                                   y = df[y_df_labels[i]][::kool_thinning], \n",
    "                                   name = name,\n",
    "                                   marker=dict(size=marker_size),\n",
    "                                   line=dict(width=3))) # , marker=dict(size=10)\n",
    "    else:\n",
    "        fig = fig.add_trace(go.Scatter(x = df[x_df_label][::1] * x_mult,\n",
    "                                   y = df[y_df_labels[i]][::1], \n",
    "                                   name = name,\n",
    "                                   marker=dict(size=marker_size),\n",
    "                                   line=dict(width=3)))\n",
    "\n",
    "fig.update_layout(\n",
    "    font_family=\"libertine\",\n",
    "    font_size=28,\n",
    "    autosize=False,\n",
    "    width=100,\n",
    "    height=666,\n",
    "    margin=dict(\n",
    "        l=120,\n",
    "        r=70,\n",
    "        b=80,\n",
    "        t=30,\n",
    "        pad=4\n",
    "    ),\n",
    "    yaxis=dict(\n",
    "        title_text=y_display_label,\n",
    "        type=\"linear\" if is_reward_plot else y_type,\n",
    "        range=(min_y, max_y), \n",
    "        rangemode=\"tozero\",\n",
    "        tickformat='f' if y_type == 'log' else ('.0e' if scientific else None), #'.0e'\n",
    "        \n",
    "        ticktext=[\"-0.1\", \"-1\", \"-10\", \"-100\", \"-1000\", \"-10k\", \"-100k\", \"-1M\", \"-10M\"] if figure_meta['is_neg_loss_plot'] else None,\n",
    "        tickvals=[0.1, 1, 10, 100, 1000, 10000, 100000, 1000000, 10000000] if figure_meta['is_neg_loss_plot'] else None,\n",
    "        #tickmode=\"array\",\n",
    "        #titlefont=dict(size=30),\n",
    "    ),\n",
    "    xaxis=dict(\n",
    "        title_text=x_display_label,\n",
    "        range=None if is_reward_plot else (min_x, max_x), # x_mult*df[x_df_label].iloc[-1]\n",
    "        rangemode=\"tozero\",\n",
    "        #ticktext=[\"Very long label\", \"long label\", \"3\", \"label\"],\n",
    "        #tickvals=[1, 2, 3, 4],\n",
    "        #tickmode=\"array\",\n",
    "        #titlefont=dict(size=30),\n",
    "    ),\n",
    "    title=dict(\n",
    "        #text=title,\n",
    "    ),\n",
    "    legend=dict(\n",
    "        yanchor=\"top\",\n",
    "        y=legend_y, # 84   6\n",
    "        xanchor=\"right\",\n",
    "        x=legend_x, #0.99,\n",
    "        bgcolor='rgba(255,255,255,0.8)'\n",
    "    ),\n",
    "    legend_title_text=figure_meta['legend_title'],\n",
    "    #paper_bgcolor=\"LightSteelBlue\",\n",
    ")\n",
    "# https://plotly.com/python/horizontal-vertical-shapes/\n",
    "if tsp_lines:\n",
    "    fig.add_hline(y=10.43, line_dash=\"dot\", annotation_text=\"random\", annotation_position=\"bottom right\")\n",
    "    fig.add_hline(y=3.84, line_dash=\"dot\", annotation_text=\"optimal\", annotation_position=\"bottom right\")\n",
    "    \n",
    "if op_lines:\n",
    "    fig.add_hline(y=1.58, line_dash=\"dot\", annotation_text=\"random\", annotation_position=\"bottom right\")\n",
    "    fig.add_hline(y=5.39, line_dash=\"dot\", annotation_text=\"optimal\", annotation_position=\"bottom right\")\n",
    "\n",
    "#fig.add_hline(y=3.84, line_dash=\"dot\", annotation_text=\"optimal (20)\", annotation_position=\"bottom right\")\n",
    "#fig.add_hline(y=5.70, line_dash=\"dot\", annotation_text=\"optimal (50)\", annotation_position=\"bottom right\")\n",
    "#fig.add_hline(y=7.76, line_dash=\"dot\", annotation_text=\"optimal (100)\", annotation_position=\"bottom right\")\n",
    "\n",
    "fig.show()\n",
    "#fig.write_image(\"figures/paper/\" + figure_meta['plot_filename'] + \".pdf\")\n",
    "#\n",
    "#with open(\"figure_metas/paper/\" + figure_meta['plot_filename'] + \".json\", \"w\") as fp:\n",
    "#    json.dump(figure_meta,fp)\n",
    "    "
   ]
  },
  {
   "cell_type": "code",
   "execution_count": 25,
   "id": "858f1c58",
   "metadata": {},
   "outputs": [
    {
     "data": {
      "text/plain": [
       "'op_final_trainings.json'"
      ]
     },
     "execution_count": 25,
     "metadata": {},
     "output_type": "execute_result"
    }
   ],
   "source": [
    "meta_name"
   ]
  },
  {
   "cell_type": "code",
   "execution_count": 11,
   "id": "11cadcb1",
   "metadata": {},
   "outputs": [
    {
     "data": {
      "text/html": [
       "<style>.container { width:100% !important; }</style>"
      ],
      "text/plain": [
       "<IPython.core.display.HTML object>"
      ]
     },
     "metadata": {},
     "output_type": "display_data"
    }
   ],
   "source": [
    "from IPython.display import display, HTML\n",
    "display(HTML(\"<style>.container { width:100% !important; }</style>\"))"
   ]
  },
  {
   "cell_type": "code",
   "execution_count": null,
   "id": "dfd09ad4-87bf-4d66-b339-c3a3d8427e91",
   "metadata": {},
   "outputs": [],
   "source": []
  }
 ],
 "metadata": {
  "kernelspec": {
   "display_name": "Python 3 (ipykernel)",
   "language": "python",
   "name": "python3"
  },
  "language_info": {
   "codemirror_mode": {
    "name": "ipython",
    "version": 3
   },
   "file_extension": ".py",
   "mimetype": "text/x-python",
   "name": "python",
   "nbconvert_exporter": "python",
   "pygments_lexer": "ipython3",
   "version": "3.11.4"
  }
 },
 "nbformat": 4,
 "nbformat_minor": 5
}
